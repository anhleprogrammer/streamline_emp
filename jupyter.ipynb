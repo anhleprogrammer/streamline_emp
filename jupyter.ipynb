{
 "cells": [
  {
   "cell_type": "code",
   "execution_count": 2,
   "metadata": {},
   "outputs": [],
   "source": [
    "import pandas as pd"
   ]
  },
  {
   "cell_type": "code",
   "execution_count": 52,
   "metadata": {},
   "outputs": [],
   "source": [
    "#Read employee information file\n",
    "empinfo_df = pd.read_excel(\"employee_information.xlsx\")"
   ]
  },
  {
   "cell_type": "code",
   "execution_count": 53,
   "metadata": {},
   "outputs": [
    {
     "name": "stdout",
     "output_type": "stream",
     "text": [
      "  employee_id employee_last_name employee_first_name employee_country  \\\n",
      "0      A2R5H9             Hunman                 Jax               BE   \n",
      "1      H8K0L6               Siff                Tara               GB   \n",
      "2      G4R7V0              Sagal               Gemma               US   \n",
      "3      M1Z7U9             Coates                 Tig               FR   \n",
      "\n",
      "  employee_city      employee_street  employee_street_number  \n",
      "0        Leuven          Grote Markt                       9  \n",
      "1        London         Baker Street                     221  \n",
      "2      New-York         Perry Street                      66  \n",
      "3         Paris  Rue de l'Université                       7  \n"
     ]
    }
   ],
   "source": [
    "#Get 1st sheet to a separated dataframe\n",
    "print(empinfo_df.head())"
   ]
  },
  {
   "cell_type": "code",
   "execution_count": 56,
   "metadata": {},
   "outputs": [
    {
     "name": "stdout",
     "output_type": "stream",
     "text": [
      "   A2R5H9  Hunman    Jax       Opie Hurst   +32-456-5556-84  Brother\n",
      "0  H8K0L6    Siff   Tara  Wendy de Matteo  +44-020-5554-333   Sister\n",
      "1  G4R7V0   Sagal  Gemma     John Newmark    +1-202-555-194  Husband\n",
      "2  M1Z7U9  Coates    Tig      Venus Noone   +1-202-555-0130     Wife\n"
     ]
    }
   ],
   "source": [
    "#Get 2nd sheet to a separated dataframe\n",
    "emergency_contacts_df = pd.read_excel(\"employee_information.xlsx\", sheet_name=1)\n",
    "print(emergency_contacts_df.head())"
   ]
  },
  {
   "cell_type": "code",
   "execution_count": 57,
   "metadata": {},
   "outputs": [
    {
     "name": "stdout",
     "output_type": "stream",
     "text": [
      "  employee_id last_name first_name emergency_contact emergency_contact_number  \\\n",
      "0      H8K0L6      Siff       Tara   Wendy de Matteo         +44-020-5554-333   \n",
      "1      G4R7V0     Sagal      Gemma      John Newmark           +1-202-555-194   \n",
      "2      M1Z7U9    Coates        Tig       Venus Noone          +1-202-555-0130   \n",
      "\n",
      "  relationship  \n",
      "0       Sister  \n",
      "1      Husband  \n",
      "2         Wife  \n"
     ]
    }
   ],
   "source": [
    "#Declare headers for second sheet\n",
    "emergency_contacts_header = [\"employee_id\", \"last_name\", \"first_name\",\n",
    "                             \"emergency_contact\", \"emergency_contact_number\" , \"relationship\"]\n",
    "#Rename the columns\n",
    "emergency_contacts_df.columns = emergency_contacts_header\n",
    "print(emergency_contacts_df.head())"
   ]
  },
  {
   "cell_type": "code",
   "execution_count": 37,
   "metadata": {},
   "outputs": [],
   "source": [
    "#Read address file\n",
    "address_df = pd.read_csv(\"office_addresses.csv\")"
   ]
  },
  {
   "cell_type": "code",
   "execution_count": 38,
   "metadata": {},
   "outputs": [
    {
     "name": "stdout",
     "output_type": "stream",
     "text": [
      "          office office_country    office_city   office_street  \\\n",
      "0  Leuven Office             BE         Leuven  Martelarenlaan   \n",
      "1     ESB Office             US  New York City    Fifth Avenue   \n",
      "2  WeWork Office             GB         London      Old Street   \n",
      "\n",
      "   office_street_number  \n",
      "0                    38  \n",
      "1                   350  \n",
      "2                   207  \n"
     ]
    }
   ],
   "source": [
    "#Print first rows of address information\n",
    "print(address_df.head())"
   ]
  },
  {
   "cell_type": "code",
   "execution_count": null,
   "metadata": {},
   "outputs": [],
   "source": []
  }
 ],
 "metadata": {
  "kernelspec": {
   "display_name": "Python 3 (ipykernel)",
   "language": "python",
   "name": "python3"
  },
  "language_info": {
   "codemirror_mode": {
    "name": "ipython",
    "version": 3
   },
   "file_extension": ".py",
   "mimetype": "text/x-python",
   "name": "python",
   "nbconvert_exporter": "python",
   "pygments_lexer": "ipython3",
   "version": "3.11.2"
  }
 },
 "nbformat": 4,
 "nbformat_minor": 2
}
