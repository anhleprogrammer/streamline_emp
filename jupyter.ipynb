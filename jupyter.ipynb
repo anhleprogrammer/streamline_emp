{
 "cells": [
  {
   "cell_type": "code",
   "execution_count": 1,
   "metadata": {},
   "outputs": [],
   "source": [
    "import pandas as pd"
   ]
  },
  {
   "cell_type": "code",
   "execution_count": 2,
   "metadata": {},
   "outputs": [],
   "source": [
    "#Read employee information file\n",
    "empinfo_df = pd.read_excel(\"employee_information.xlsx\")"
   ]
  },
  {
   "cell_type": "code",
   "execution_count": 3,
   "metadata": {},
   "outputs": [
    {
     "name": "stdout",
     "output_type": "stream",
     "text": [
      "  employee_id employee_last_name employee_first_name employee_country  \\\n",
      "0      A2R5H9             Hunman                 Jax               BE   \n",
      "1      H8K0L6               Siff                Tara               GB   \n",
      "2      G4R7V0              Sagal               Gemma               US   \n",
      "3      M1Z7U9             Coates                 Tig               FR   \n",
      "\n",
      "  employee_city      employee_street  employee_street_number  \n",
      "0        Leuven          Grote Markt                       9  \n",
      "1        London         Baker Street                     221  \n",
      "2      New-York         Perry Street                      66  \n",
      "3         Paris  Rue de l'Université                       7  \n"
     ]
    }
   ],
   "source": [
    "#Get 1st sheet to a separated dataframe\n",
    "print(empinfo_df.head())"
   ]
  },
  {
   "cell_type": "code",
   "execution_count": 4,
   "metadata": {},
   "outputs": [
    {
     "name": "stdout",
     "output_type": "stream",
     "text": [
      "   A2R5H9  Hunman    Jax       Opie Hurst   +32-456-5556-84  Brother\n",
      "0  H8K0L6    Siff   Tara  Wendy de Matteo  +44-020-5554-333   Sister\n",
      "1  G4R7V0   Sagal  Gemma     John Newmark    +1-202-555-194  Husband\n",
      "2  M1Z7U9  Coates    Tig      Venus Noone   +1-202-555-0130     Wife\n"
     ]
    }
   ],
   "source": [
    "#Get 2nd sheet to a separated dataframe\n",
    "emergency_contacts_df = pd.read_excel(\"employee_information.xlsx\", sheet_name=1)\n",
    "print(emergency_contacts_df.head())"
   ]
  },
  {
   "cell_type": "code",
   "execution_count": 5,
   "metadata": {},
   "outputs": [
    {
     "name": "stdout",
     "output_type": "stream",
     "text": [
      "  employee_id last_name first_name emergency_contact emergency_contact_number  \\\n",
      "0      H8K0L6      Siff       Tara   Wendy de Matteo         +44-020-5554-333   \n",
      "1      G4R7V0     Sagal      Gemma      John Newmark           +1-202-555-194   \n",
      "2      M1Z7U9    Coates        Tig       Venus Noone          +1-202-555-0130   \n",
      "\n",
      "  relationship  \n",
      "0       Sister  \n",
      "1      Husband  \n",
      "2         Wife  \n"
     ]
    }
   ],
   "source": [
    "#Declare headers for second sheet\n",
    "emergency_contacts_header = [\"employee_id\", \"last_name\", \"first_name\",\n",
    "                             \"emergency_contact\", \"emergency_contact_number\" , \"relationship\"]\n",
    "#Rename the columns\n",
    "emergency_contacts_df.columns = emergency_contacts_header\n",
    "print(emergency_contacts_df.head())"
   ]
  },
  {
   "cell_type": "code",
   "execution_count": 6,
   "metadata": {},
   "outputs": [],
   "source": [
    "#Read address file\n",
    "address_df = pd.read_csv(\"office_addresses.csv\")"
   ]
  },
  {
   "cell_type": "code",
   "execution_count": 7,
   "metadata": {},
   "outputs": [
    {
     "name": "stdout",
     "output_type": "stream",
     "text": [
      "          office office_country    office_city   office_street  \\\n",
      "0  Leuven Office             BE         Leuven  Martelarenlaan   \n",
      "1     ESB Office             US  New York City    Fifth Avenue   \n",
      "2  WeWork Office             GB         London      Old Street   \n",
      "\n",
      "   office_street_number  \n",
      "0                    38  \n",
      "1                   350  \n",
      "2                   207  \n"
     ]
    }
   ],
   "source": [
    "#Print first rows of address information\n",
    "print(address_df.head())"
   ]
  },
  {
   "cell_type": "code",
   "execution_count": 8,
   "metadata": {},
   "outputs": [
    {
     "name": "stdout",
     "output_type": "stream",
     "text": [
      "                          title monthly_salary               team\n",
      "employee_id                                                      \n",
      "A2R5H9                      CEO          $4500         Leadership\n",
      "G4R7V0       Business Developer          $3000              Sales\n",
      "H8K0L6                      CFO          $4500         Leadership\n",
      "M1Z7U9           Office Manager          $2000  People Operations\n"
     ]
    }
   ],
   "source": [
    "#Load JSON file\n",
    "employee_roles_df = pd.read_json(\"employee_roles.json\")\n",
    "employee_roles_df = employee_roles_df.reindex(sorted(employee_roles_df.columns), axis=1)\n",
    "#Rotate the DF, add column ID to the DF\n",
    "employee_roles_df = employee_roles_df.transpose()\n",
    "employee_roles_df = employee_roles_df.reset_index()\n",
    "employee_roles_df = employee_roles_df.rename(columns={'index' : 'employee_id'})\n",
    "employee_roles_df = employee_roles_df.set_index('employee_id')\n",
    "print(employee_roles_df )\n"
   ]
  },
  {
   "cell_type": "code",
   "execution_count": 9,
   "metadata": {},
   "outputs": [
    {
     "name": "stdout",
     "output_type": "stream",
     "text": [
      "  employee_id employee_last_name employee_first_name employee_country  \\\n",
      "0      H8K0L6               Siff                Tara               GB   \n",
      "1      G4R7V0              Sagal               Gemma               US   \n",
      "2      M1Z7U9             Coates                 Tig               FR   \n",
      "\n",
      "  employee_city      employee_street  employee_street_number last_name  \\\n",
      "0        London         Baker Street                     221      Siff   \n",
      "1      New-York         Perry Street                      66     Sagal   \n",
      "2         Paris  Rue de l'Université                       7    Coates   \n",
      "\n",
      "  first_name emergency_contact emergency_contact_number relationship  \\\n",
      "0       Tara   Wendy de Matteo         +44-020-5554-333       Sister   \n",
      "1      Gemma      John Newmark           +1-202-555-194      Husband   \n",
      "2        Tig       Venus Noone          +1-202-555-0130         Wife   \n",
      "\n",
      "                title monthly_salary               team         office  \\\n",
      "0                 CFO          $4500         Leadership  WeWork Office   \n",
      "1  Business Developer          $3000              Sales     ESB Office   \n",
      "2      Office Manager          $2000  People Operations            NaN   \n",
      "\n",
      "  office_country    office_city office_street  office_street_number  \n",
      "0             GB         London    Old Street                 207.0  \n",
      "1             US  New York City  Fifth Avenue                 350.0  \n",
      "2            NaN            NaN           NaN                   NaN  \n"
     ]
    }
   ],
   "source": [
    "#Merge address with emergency contact\n",
    "df_employee = pd.merge(empinfo_df, emergency_contacts_df, on='employee_id', copy=False)\n",
    "#Merge with employee roles\n",
    "df_employee = pd.merge(df_employee, employee_roles_df, how='left', on='employee_id', copy=False)\n",
    "#Merge df employee with office address\n",
    "df_employee = pd.merge(df_employee, address_df, how='left', left_on='employee_country', right_on='office_country' , copy=False)\n",
    "print(df_employee.head())"
   ]
  },
  {
   "cell_type": "code",
   "execution_count": 10,
   "metadata": {},
   "outputs": [
    {
     "name": "stdout",
     "output_type": "stream",
     "text": [
      "       id country      city               street  street_number last_name  \\\n",
      "0  H8K0L6      GB    London         Baker Street            221      Siff   \n",
      "1  G4R7V0      US  New-York         Perry Street             66     Sagal   \n",
      "2  M1Z7U9      FR     Paris  Rue de l'Université              7    Coates   \n",
      "\n",
      "  first_name emergency_contact  emergency_number emergency_relationship  \\\n",
      "0       Tara   Wendy de Matteo  +44-020-5554-333                 Sister   \n",
      "1      Gemma      John Newmark    +1-202-555-194                Husband   \n",
      "2        Tig       Venus Noone   +1-202-555-0130                   Wife   \n",
      "\n",
      "                title monthly_salary               team         office  \\\n",
      "0                 CFO          $4500         Leadership  WeWork Office   \n",
      "1  Business Developer          $3000              Sales     ESB Office   \n",
      "2      Office Manager          $2000  People Operations            NaN   \n",
      "\n",
      "  office_country    office_city office_street  office_street_number  \n",
      "0             GB         London    Old Street                 207.0  \n",
      "1             US  New York City  Fifth Avenue                 350.0  \n",
      "2            NaN            NaN           NaN                   NaN  \n"
     ]
    }
   ],
   "source": [
    "#Edit column Name\n",
    "#drop duplicate\n",
    "df_employee_rename = df_employee.drop(columns=['employee_first_name','employee_last_name'])\n",
    "#new columns name\n",
    "new_column_names = {\"employee_id\": \"id\",\n",
    "                    \"employee_country\": \"country\",\n",
    "                    \"employee_city\": \"city\",\n",
    "                    \"employee_street\": \"street\",\n",
    "                    \"employee_street_number\": \"street_number\",\n",
    "                    \"relationship\": \"emergency_relationship\",\n",
    "                    \"emergency_contact_number\": \"emergency_number\"}\n",
    "df_employee_rename = df_employee_rename.rename(columns=new_column_names)\n",
    "print(df_employee_rename)"
   ]
  },
  {
   "cell_type": "code",
   "execution_count": 14,
   "metadata": {},
   "outputs": [
    {
     "data": {
      "text/html": [
       "<div>\n",
       "<style scoped>\n",
       "    .dataframe tbody tr th:only-of-type {\n",
       "        vertical-align: middle;\n",
       "    }\n",
       "\n",
       "    .dataframe tbody tr th {\n",
       "        vertical-align: top;\n",
       "    }\n",
       "\n",
       "    .dataframe thead th {\n",
       "        text-align: right;\n",
       "    }\n",
       "</style>\n",
       "<table border=\"1\" class=\"dataframe\">\n",
       "  <thead>\n",
       "    <tr style=\"text-align: right;\">\n",
       "      <th></th>\n",
       "      <th>id</th>\n",
       "      <th>last_name</th>\n",
       "      <th>first_name</th>\n",
       "      <th>title</th>\n",
       "      <th>team</th>\n",
       "      <th>monthly_salary</th>\n",
       "      <th>country</th>\n",
       "      <th>city</th>\n",
       "      <th>street</th>\n",
       "      <th>street_number</th>\n",
       "      <th>emergency_contact</th>\n",
       "      <th>emergency_number</th>\n",
       "      <th>emergency_relationship</th>\n",
       "      <th>office</th>\n",
       "      <th>office_country</th>\n",
       "      <th>office_city</th>\n",
       "      <th>office_street</th>\n",
       "      <th>office_street_number</th>\n",
       "    </tr>\n",
       "  </thead>\n",
       "  <tbody>\n",
       "    <tr>\n",
       "      <th>0</th>\n",
       "      <td>H8K0L6</td>\n",
       "      <td>Siff</td>\n",
       "      <td>Tara</td>\n",
       "      <td>CFO</td>\n",
       "      <td>Leadership</td>\n",
       "      <td>$4500</td>\n",
       "      <td>GB</td>\n",
       "      <td>London</td>\n",
       "      <td>Baker Street</td>\n",
       "      <td>221</td>\n",
       "      <td>Wendy de Matteo</td>\n",
       "      <td>+44-020-5554-333</td>\n",
       "      <td>Sister</td>\n",
       "      <td>WeWork Office</td>\n",
       "      <td>GB</td>\n",
       "      <td>London</td>\n",
       "      <td>Old Street</td>\n",
       "      <td>207.0</td>\n",
       "    </tr>\n",
       "    <tr>\n",
       "      <th>1</th>\n",
       "      <td>G4R7V0</td>\n",
       "      <td>Sagal</td>\n",
       "      <td>Gemma</td>\n",
       "      <td>Business Developer</td>\n",
       "      <td>Sales</td>\n",
       "      <td>$3000</td>\n",
       "      <td>US</td>\n",
       "      <td>New-York</td>\n",
       "      <td>Perry Street</td>\n",
       "      <td>66</td>\n",
       "      <td>John Newmark</td>\n",
       "      <td>+1-202-555-194</td>\n",
       "      <td>Husband</td>\n",
       "      <td>ESB Office</td>\n",
       "      <td>US</td>\n",
       "      <td>New York City</td>\n",
       "      <td>Fifth Avenue</td>\n",
       "      <td>350.0</td>\n",
       "    </tr>\n",
       "    <tr>\n",
       "      <th>2</th>\n",
       "      <td>M1Z7U9</td>\n",
       "      <td>Coates</td>\n",
       "      <td>Tig</td>\n",
       "      <td>Office Manager</td>\n",
       "      <td>People Operations</td>\n",
       "      <td>$2000</td>\n",
       "      <td>FR</td>\n",
       "      <td>Paris</td>\n",
       "      <td>Rue de l'Université</td>\n",
       "      <td>7</td>\n",
       "      <td>Venus Noone</td>\n",
       "      <td>+1-202-555-0130</td>\n",
       "      <td>Wife</td>\n",
       "      <td>NaN</td>\n",
       "      <td>NaN</td>\n",
       "      <td>NaN</td>\n",
       "      <td>NaN</td>\n",
       "      <td>NaN</td>\n",
       "    </tr>\n",
       "  </tbody>\n",
       "</table>\n",
       "</div>"
      ],
      "text/plain": [
       "       id last_name first_name               title               team  \\\n",
       "0  H8K0L6      Siff       Tara                 CFO         Leadership   \n",
       "1  G4R7V0     Sagal      Gemma  Business Developer              Sales   \n",
       "2  M1Z7U9    Coates        Tig      Office Manager  People Operations   \n",
       "\n",
       "  monthly_salary country      city               street  street_number  \\\n",
       "0          $4500      GB    London         Baker Street            221   \n",
       "1          $3000      US  New-York         Perry Street             66   \n",
       "2          $2000      FR     Paris  Rue de l'Université              7   \n",
       "\n",
       "  emergency_contact  emergency_number emergency_relationship         office  \\\n",
       "0   Wendy de Matteo  +44-020-5554-333                 Sister  WeWork Office   \n",
       "1      John Newmark    +1-202-555-194                Husband     ESB Office   \n",
       "2       Venus Noone   +1-202-555-0130                   Wife            NaN   \n",
       "\n",
       "  office_country    office_city office_street  office_street_number  \n",
       "0             GB         London    Old Street                 207.0  \n",
       "1             US  New York City  Fifth Avenue                 350.0  \n",
       "2            NaN            NaN           NaN                   NaN  "
      ]
     },
     "execution_count": 14,
     "metadata": {},
     "output_type": "execute_result"
    }
   ],
   "source": [
    "#Change color order\n",
    "new_column_order = [\"id\", \"last_name\", \"first_name\", \"title\", \"team\", \"monthly_salary\", \n",
    "                    \"country\", \"city\", \"street\", \"street_number\",\n",
    "                    \"emergency_contact\", \"emergency_number\", \"emergency_relationship\",\n",
    "                    \"office\", \"office_country\", \"office_city\", \"office_street\", \"office_street_number\"]\n",
    "df_employees_ordered = df_employee_rename[new_column_order]\n",
    "\n",
    "df_employees_ordered.head()"
   ]
  },
  {
   "cell_type": "code",
   "execution_count": 20,
   "metadata": {},
   "outputs": [
    {
     "name": "stdout",
     "output_type": "stream",
     "text": [
      "       last_name first_name               title               team  \\\n",
      "id                                                                   \n",
      "H8K0L6      Siff       Tara                 CFO         Leadership   \n",
      "G4R7V0     Sagal      Gemma  Business Developer              Sales   \n",
      "M1Z7U9    Coates        Tig      Office Manager  People Operations   \n",
      "\n",
      "       monthly_salary country      city               street  street_number  \\\n",
      "id                                                                            \n",
      "H8K0L6          $4500      GB    London         Baker Street            221   \n",
      "G4R7V0          $3000      US  New-York         Perry Street             66   \n",
      "M1Z7U9          $2000      FR     Paris  Rue de l'Université              7   \n",
      "\n",
      "       emergency_contact  emergency_number emergency_relationship  \\\n",
      "id                                                                  \n",
      "H8K0L6   Wendy de Matteo  +44-020-5554-333                 Sister   \n",
      "G4R7V0      John Newmark    +1-202-555-194                Husband   \n",
      "M1Z7U9       Venus Noone   +1-202-555-0130                   Wife   \n",
      "\n",
      "               office office_country    office_city office_street  \\\n",
      "id                                                                  \n",
      "H8K0L6  WeWork Office             GB         London    Old Street   \n",
      "G4R7V0     ESB Office             US  New York City  Fifth Avenue   \n",
      "M1Z7U9            NaN            NaN            NaN           NaN   \n",
      "\n",
      "        office_street_number  \n",
      "id                            \n",
      "H8K0L6                 207.0  \n",
      "G4R7V0                 350.0  \n",
      "M1Z7U9                   NaN  \n"
     ]
    }
   ],
   "source": [
    "df_employees_ordered = df_employees_ordered.set_index('id')\n",
    "df_employees_ordered['street_number'] = df_employees_ordered['street_number'].astype(int)\n",
    "\n",
    "#If the value for office is NaN then the employee is remote: add a column named \"status\", right after monthly_salary indicating whether the employee is \"On-site\" or \"Remote.\"\n",
    "print(df_employees_ordered)"
   ]
  }
 ],
 "metadata": {
  "kernelspec": {
   "display_name": "venv",
   "language": "python",
   "name": "python3"
  },
  "language_info": {
   "codemirror_mode": {
    "name": "ipython",
    "version": 3
   },
   "file_extension": ".py",
   "mimetype": "text/x-python",
   "name": "python",
   "nbconvert_exporter": "python",
   "pygments_lexer": "ipython3",
   "version": "3.11.2"
  },
  "vscode": {
   "interpreter": {
    "hash": "841f9b51acb6d7e400aae8d9e3f1fe1061a1a08f7b194e0c8dd13ca5ce068e04"
   }
  }
 },
 "nbformat": 4,
 "nbformat_minor": 2
}
