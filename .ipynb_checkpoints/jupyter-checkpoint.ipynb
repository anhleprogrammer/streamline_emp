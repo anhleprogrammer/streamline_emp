{
 "cells": [
  {
   "cell_type": "code",
   "execution_count": 2,
   "metadata": {},
   "outputs": [],
   "source": [
    "import pandas as pd"
   ]
  },
  {
   "cell_type": "code",
   "execution_count": 5,
   "metadata": {},
   "outputs": [],
   "source": [
    "empinfo_df = pd.read_excel(\"employee_information.xlsx\")\n",
    "address_df = pd.read_csv(\"office_addresses.csv\")\n",
    " "
   ]
  },
  {
   "cell_type": "code",
   "execution_count": 4,
   "metadata": {},
   "outputs": [
    {
     "name": "stdout",
     "output_type": "stream",
     "text": [
      "  employee_id employee_last_name employee_first_name employee_country  \\\n",
      "0      A2R5H9             Hunman                 Jax               BE   \n",
      "1      H8K0L6               Siff                Tara               GB   \n",
      "2      G4R7V0              Sagal               Gemma               US   \n",
      "3      M1Z7U9             Coates                 Tig               FR   \n",
      "\n",
      "  employee_city      employee_street  employee_street_number  \n",
      "0        Leuven          Grote Markt                       9  \n",
      "1        London         Baker Street                     221  \n",
      "2      New-York         Perry Street                      66  \n",
      "3         Paris  Rue de l'Université                       7  \n"
     ]
    }
   ],
   "source": [
    "print(employees)"
   ]
  }
 ],
 "metadata": {
  "kernelspec": {
   "display_name": "Python 3 (ipykernel)",
   "language": "python",
   "name": "python3"
  },
  "language_info": {
   "codemirror_mode": {
    "name": "ipython",
    "version": 3
   },
   "file_extension": ".py",
   "mimetype": "text/x-python",
   "name": "python",
   "nbconvert_exporter": "python",
   "pygments_lexer": "ipython3",
   "version": "3.11.2"
  }
 },
 "nbformat": 4,
 "nbformat_minor": 2
}
